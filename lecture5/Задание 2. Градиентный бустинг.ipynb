{
 "cells": [
  {
   "cell_type": "markdown",
   "metadata": {
    "id": "SySWVxYOhamY"
   },
   "source": [
    "В этом задании будет использоваться датасет boston из sklearn.datasets. Оставьте последние 25% объектов для контроля качества, разделив X и y на X_train, y_train и X_test, y_test.\n",
    "Целью задания будет реализовать простой вариант градиентного бустинга над регрессионными деревьями для случая квадратичной функции потерь."
   ]
  },
  {
   "cell_type": "code",
   "execution_count": null,
   "metadata": {
    "collapsed": true,
    "id": "77YBF_sNhamb"
   },
   "outputs": [],
   "source": [
    "from sklearn import datasets, tree, metrics, ensemble, linear_model\n",
    "from sklearn.model_selection import train_test_split, cross_validate\n",
    "from matplotlib import pyplot as plt\n",
    "import seaborn as sns\n",
    "import numpy as np\n",
    "import pandas as pd"
   ]
  },
  {
   "cell_type": "code",
   "execution_count": 10,
   "metadata": {
    "id": "-odV89Lli4ov"
   },
   "outputs": [],
   "source": [
    "data = datasets.fetch_california_housing()"
   ]
  },
  {
   "cell_type": "code",
   "execution_count": 27,
   "metadata": {},
   "outputs": [
    {
     "name": "stdout",
     "output_type": "stream",
     "text": [
      "(15480, 8) (5160, 8)\n",
      "(15480,) (5160,)\n"
     ]
    }
   ],
   "source": [
    "X = data.data\n",
    "y = data.target\n",
    "\n",
    "X_train, X_test, y_train, y_test = train_test_split(X, y, test_size=0.25, shuffle=False)\n",
    "\n",
    "print(X_train.shape, X_test.shape)\n",
    "print(y_train.shape, y_test.shape)"
   ]
  },
  {
   "cell_type": "markdown",
   "metadata": {
    "id": "lYZ13BvJhamg"
   },
   "source": [
    "# Задание 1\n",
    "\n",
    "Бустинг - это метод построения композиций базовых алгоритмов с помощью последовательного добавления к текущей композиции нового алгоритма с некоторым коэффициентом. Градиентный бустинг обучает каждый новый алгоритм так, чтобы он приближал антиградиент ошибки по ответам композиции на обучающей выборке. Аналогично минимизации функций методом градиентного спуска, в градиентном бустинге мы подправляем композицию, изменяя алгоритм в направлении антиградиента ошибки. Воспользуйтесь формулой из лекций, задающей ответы на обучающей выборке, на которые нужно обучать новый алгоритм (фактически это лишь чуть более подробно расписанный градиент от ошибки), и получите частный ее случай, если функция потерь L - квадрат отклонения ответа композиции a(x) от правильного ответа y на данном x.\n",
    "\n",
    "Если вы давно не считали производную самостоятельно, вам поможет таблица производных элементарных функций (которую несложно найти в интернете) и правило дифференцирования сложной функции. После дифференцирования квадрата у вас возникнет множитель 2 — т.к. все равно предстоит выбирать коэффициент, с которым будет добавлен новый базовый алгоритм, проигнориуйте этот множитель при дальнейшем построении алгоритма.\n",
    "\n",
    "$L(y, z) = (y - z)^2$\n",
    "\n",
    "$L'_z(y, z) = 2(z - y) => (z - y)$"
   ]
  },
  {
   "cell_type": "code",
   "execution_count": null,
   "metadata": {
    "id": "ib0urO8djQuv"
   },
   "outputs": [],
   "source": []
  },
  {
   "cell_type": "markdown",
   "metadata": {
    "id": "lpXmPb2Khamh"
   },
   "source": [
    "### Задание 2\n",
    "Заведите массив для объектов DecisionTreeRegressor (будем их использовать в качестве базовых алгоритмов) и для вещественных чисел (это будут коэффициенты перед базовыми алгоритмами). В цикле обучите последовательно 50 решающих деревьев с параметрами max_depth=5 и random_state=42 (остальные параметры - по умолчанию). В бустинге зачастую используются сотни и тысячи деревьев, но мы ограничимся 50, чтобы алгоритм работал быстрее, и его было проще отлаживать (т.к. цель задания разобраться, как работает метод). Каждое дерево должно обучаться на одном и том же множестве объектов, но ответы, которые учится прогнозировать дерево, будут меняться в соответствие с полученным в задании 1 правилом. Попробуйте для начала всегда брать коэффициент равным 0.9. Обычно оправдано выбирать коэффициент значительно меньшим - порядка 0.05 или 0.1, но т.к. в нашем учебном примере на стандартном датасете будет всего 50 деревьев, возьмем для начала шаг побольше.\n",
    "В процессе реализации обучения вам потребуется функция, которая будет вычислять прогноз построенной на данный момент композиции деревьев на выборке X:\n",
    "\n",
    "`def gbm_predict(X):\n",
    "    return [sum([coeff * algo.predict([x])[0] for algo, coeff in zip(base_algorithms_list, coefficients_list)]) for x in X]`\n",
    "    \n",
    "(считаем, что base_algorithms_list - список с базовыми алгоритмами, coefficients_list - список с коэффициентами перед алгоритмами)\n",
    "Эта же функция поможет вам получить прогноз на контрольной выборке и оценить качество работы вашего алгоритма с помощью mean_squared_error в sklearn.metrics. Возведите результат в степень 0.5, чтобы получить RMSE."
   ]
  },
  {
   "cell_type": "code",
   "execution_count": 45,
   "metadata": {
    "collapsed": true,
    "id": "zJKvP0AOhami"
   },
   "outputs": [
    {
     "name": "stdout",
     "output_type": "stream",
     "text": [
      "Iteration 0. |difference| = 283.69015310028567\n",
      "Iteration 1. |difference| = 83.40147413597332\n",
      "Iteration 2. |difference| = 70.61059905651219\n",
      "Iteration 3. |difference| = 67.55433005843956\n",
      "Iteration 4. |difference| = 65.68353652873436\n",
      "Iteration 5. |difference| = 63.094558041759704\n",
      "Iteration 6. |difference| = 61.56226743212025\n",
      "Iteration 7. |difference| = 60.138124909399444\n",
      "Iteration 8. |difference| = 58.64745559874358\n",
      "Iteration 9. |difference| = 57.434426443129006\n",
      "Iteration 10. |difference| = 55.31041289661028\n",
      "Iteration 11. |difference| = 54.39735835669931\n",
      "Iteration 12. |difference| = 53.40956722800904\n",
      "Iteration 13. |difference| = 52.94893612726377\n",
      "Iteration 14. |difference| = 52.21782220527429\n",
      "Iteration 15. |difference| = 51.57731950977299\n",
      "Iteration 16. |difference| = 50.86582956271103\n",
      "Iteration 17. |difference| = 50.38712760135731\n",
      "Iteration 18. |difference| = 49.72573796328096\n",
      "Iteration 19. |difference| = 48.94034707061364\n",
      "Iteration 20. |difference| = 48.27922063242728\n",
      "Iteration 21. |difference| = 47.745784713985266\n",
      "Iteration 22. |difference| = 47.457930451453784\n",
      "Iteration 23. |difference| = 46.96236794094678\n",
      "Iteration 24. |difference| = 46.38038128647283\n",
      "Iteration 25. |difference| = 46.048927872586496\n",
      "Iteration 26. |difference| = 45.86253217619278\n",
      "Iteration 27. |difference| = 45.27464975969006\n",
      "Iteration 28. |difference| = 44.781824399649416\n",
      "Iteration 29. |difference| = 44.639466153510206\n",
      "Iteration 30. |difference| = 44.31195656365346\n",
      "Iteration 31. |difference| = 44.06048263928586\n",
      "Iteration 32. |difference| = 43.84878305270401\n",
      "Iteration 33. |difference| = 43.67646237115491\n",
      "Iteration 34. |difference| = 43.09119616236398\n",
      "Iteration 35. |difference| = 42.82543938209002\n",
      "Iteration 36. |difference| = 42.4919698468859\n",
      "Iteration 37. |difference| = 42.19155415490637\n",
      "Iteration 38. |difference| = 41.89260610290141\n",
      "Iteration 39. |difference| = 41.57347363822586\n",
      "Iteration 40. |difference| = 41.44912923237864\n",
      "Iteration 41. |difference| = 41.218376232681955\n",
      "Iteration 42. |difference| = 40.95408950739891\n",
      "Iteration 43. |difference| = 40.5801570124836\n",
      "Iteration 44. |difference| = 40.3534831213414\n",
      "Iteration 45. |difference| = 39.88228041696415\n",
      "Iteration 46. |difference| = 39.469181458068654\n",
      "Iteration 47. |difference| = 39.18599966292067\n",
      "Iteration 48. |difference| = 38.94819872271988\n",
      "Iteration 49. |difference| = 38.421276132061955\n"
     ]
    }
   ],
   "source": [
    "base_algorithms_list = []\n",
    "coefficients_list = []\n",
    "\n",
    "def gbm_predict(X):\n",
    "    return [sum([coeff * algo.predict([x])[0] for algo, coeff in zip(base_algorithms_list, coefficients_list)]) for x in X]\n",
    "\n",
    "\n",
    "for i in range(50):\n",
    "    difference = gbm_predict(X_train) - y_train\n",
    "    print(f'Iteration {i}. |difference| = {np.linalg.norm(difference)}')\n",
    "    decision_tree = tree.DecisionTreeRegressor(max_depth=5, random_state=42)\n",
    "    decision_tree.fit(X_train, -difference)\n",
    "    base_algorithms_list.append(decision_tree)\n",
    "    coefficients_list.append(0.9)"
   ]
  },
  {
   "cell_type": "code",
   "execution_count": 46,
   "metadata": {},
   "outputs": [
    {
     "data": {
      "text/plain": [
       "np.float64(0.8828841468772005)"
      ]
     },
     "execution_count": 46,
     "metadata": {},
     "output_type": "execute_result"
    }
   ],
   "source": [
    "metrics.mean_squared_error(y_test, gbm_predict(X_test))**0.5"
   ]
  },
  {
   "cell_type": "markdown",
   "metadata": {
    "id": "U9NcCEZ1hamk"
   },
   "source": [
    "\n",
    "### Задание 3\n",
    "\n",
    "Двигаясь с постоянным шагом, вблизи минимума ошибки ответы на обучающей выборке меняются слишком резко, перескакивая через минимум. Попробуйте уменьшать вес перед каждым алгоритмом с каждой следующей итерацией по формуле 0.9 / (1.0 + i), где i - номер итерации (от 0 до 49). Используйте качество работы алгоритма как ответ в пункте 3. В реальности часто применяется следующая стратегия выбора шага: как только выбран алгоритм, подберем коэффициент перед ним численным методом оптимизации таким образом, чтобы отклонение от правильных ответов было минимальным."
   ]
  },
  {
   "cell_type": "code",
   "execution_count": 43,
   "metadata": {},
   "outputs": [
    {
     "name": "stdout",
     "output_type": "stream",
     "text": [
      "Iteration 0. |difference| = 283.69015310028567\n",
      "Iteration 1. |difference| = 83.40147413597332\n",
      "Iteration 2. |difference| = 74.61827618824049\n",
      "Iteration 3. |difference| = 71.44866831742014\n",
      "Iteration 4. |difference| = 69.72084366219\n",
      "Iteration 5. |difference| = 68.51345446790222\n",
      "Iteration 6. |difference| = 67.75028238636081\n",
      "Iteration 7. |difference| = 66.82424050483655\n",
      "Iteration 8. |difference| = 66.33692614962358\n",
      "Iteration 9. |difference| = 66.00085831555785\n",
      "Iteration 10. |difference| = 65.57153354437266\n",
      "Iteration 11. |difference| = 65.24378766234264\n",
      "Iteration 12. |difference| = 64.9710453583137\n",
      "Iteration 13. |difference| = 64.67302708429428\n",
      "Iteration 14. |difference| = 64.53900664023699\n",
      "Iteration 15. |difference| = 64.32335635332326\n",
      "Iteration 16. |difference| = 64.09124913721593\n",
      "Iteration 17. |difference| = 63.90847426146415\n",
      "Iteration 18. |difference| = 63.7183491934735\n",
      "Iteration 19. |difference| = 63.55963295063482\n",
      "Iteration 20. |difference| = 63.40986938664902\n",
      "Iteration 21. |difference| = 63.317464098002226\n",
      "Iteration 22. |difference| = 63.18540105260375\n",
      "Iteration 23. |difference| = 63.074185351224735\n",
      "Iteration 24. |difference| = 62.94428662310245\n",
      "Iteration 25. |difference| = 62.774606277849706\n",
      "Iteration 26. |difference| = 62.681054094074774\n",
      "Iteration 27. |difference| = 62.551594447005684\n",
      "Iteration 28. |difference| = 62.44701113370961\n",
      "Iteration 29. |difference| = 62.346305989881216\n",
      "Iteration 30. |difference| = 62.26629376751854\n",
      "Iteration 31. |difference| = 62.19234744243035\n",
      "Iteration 32. |difference| = 62.12674794503541\n",
      "Iteration 33. |difference| = 62.04106767154086\n",
      "Iteration 34. |difference| = 61.966084613353374\n",
      "Iteration 35. |difference| = 61.88431230927345\n",
      "Iteration 36. |difference| = 61.810431244742716\n",
      "Iteration 37. |difference| = 61.76066717477378\n",
      "Iteration 38. |difference| = 61.69081222928265\n",
      "Iteration 39. |difference| = 61.61624450678392\n",
      "Iteration 40. |difference| = 61.55487112662316\n",
      "Iteration 41. |difference| = 61.50353820687063\n",
      "Iteration 42. |difference| = 61.46369368455337\n",
      "Iteration 43. |difference| = 61.41749753759002\n",
      "Iteration 44. |difference| = 61.36361702443776\n",
      "Iteration 45. |difference| = 61.31437265635886\n",
      "Iteration 46. |difference| = 61.27276305981657\n",
      "Iteration 47. |difference| = 61.22067681881446\n",
      "Iteration 48. |difference| = 61.1803965809726\n",
      "Iteration 49. |difference| = 61.13267014207022\n"
     ]
    }
   ],
   "source": [
    "base_algorithms_list = []\n",
    "coefficients_list = []\n",
    "\n",
    "def gbm_predict(X):\n",
    "    return [sum([coeff * algo.predict([x])[0] for algo, coeff in zip(base_algorithms_list, coefficients_list)]) for x in X]\n",
    "\n",
    "\n",
    "for i in range(50):\n",
    "    difference = gbm_predict(X_train) - y_train\n",
    "    print(f'Iteration {i}. |difference| = {np.linalg.norm(difference)}')\n",
    "    decision_tree = tree.DecisionTreeRegressor(max_depth=5, random_state=42)\n",
    "    decision_tree.fit(X_train, -difference)\n",
    "    base_algorithms_list.append(decision_tree)\n",
    "    coefficients_list.append(0.9 / (1.0 + i))"
   ]
  },
  {
   "cell_type": "code",
   "execution_count": 44,
   "metadata": {},
   "outputs": [
    {
     "data": {
      "text/plain": [
       "np.float64(0.8163686943620856)"
      ]
     },
     "execution_count": 44,
     "metadata": {},
     "output_type": "execute_result"
    }
   ],
   "source": [
    "metrics.mean_squared_error(y_test, gbm_predict(X_test))**0.5"
   ]
  },
  {
   "cell_type": "markdown",
   "metadata": {
    "id": "ghSkDqHphaml"
   },
   "source": [
    "### Задание 4\n",
    "\n",
    "Реализованный вами метод - градиентный бустинг над деревьями - очень популярен в машинном обучении. Он представлен как в самой библиотеке sklearn, так и в сторонней библиотеке XGBoost, которая имеет свой питоновский интерфейс. На практике XGBoost работает заметно лучше GradientBoostingRegressor из sklearn, но для этого задания вы можете использовать любую реализацию. Исследуйте, переобучается ли градиентный бустинг с ростом числа итераций (и подумайте, почему), а также с ростом глубины деревьев. На основе наблюдений выпишите через пробел номера правильных из приведенных ниже утверждений в порядке возрастания номера:\n",
    "\n",
    "  1. С увеличением числа деревьев начиная с некоторого момента качество работы градиентного бустинга не меняется существенно.\n",
    "  2. С увеличением числа деревьев начиная с некоторого момента градиентный бустинг начинает переобучаться.\n",
    "  3. С ростом глубины деревьев, начиная с некоторого момента, качество работы градиентного бустинга на тестовой выборке начинает ухудшаться\n",
    "  4. С ростом глубины деревьев, начиная с некоторого момента, качество работы градиентного бустинга перестает существенно изменяться"
   ]
  },
  {
   "cell_type": "markdown",
   "metadata": {
    "id": "q5WYFmJDhaml"
   },
   "source": [
    "#### Зависимость от числа деревьев"
   ]
  },
  {
   "cell_type": "code",
   "execution_count": 55,
   "metadata": {
    "id": "wiL8wjpXklkp"
   },
   "outputs": [
    {
     "name": "stdout",
     "output_type": "stream",
     "text": [
      "Number of trees: 1. RMSE: 1.218515286298307\n",
      "Number of trees: 2. RMSE: 1.1664015066356308\n",
      "Number of trees: 3. RMSE: 1.1218394231203195\n",
      "Number of trees: 10. RMSE: 0.9485982767070951\n",
      "Number of trees: 50. RMSE: 0.81758704461505\n",
      "Number of trees: 100. RMSE: 0.7389227416097102\n",
      "Number of trees: 200. RMSE: 0.7204200560474155\n",
      "Number of trees: 400. RMSE: 0.7150126320269724\n",
      "Number of trees: 800. RMSE: 0.7113053801709069\n"
     ]
    }
   ],
   "source": [
    "trees_counts = [1, 2, 3, 10, 50, 100, 200, 400, 800]\n",
    "results = []\n",
    "for n in trees_counts:\n",
    "    gradient_boosting = ensemble.GradientBoostingRegressor(n_estimators=n, random_state=42)\n",
    "    gradient_boosting.fit(X_train, y_train)\n",
    "    rmse = metrics.mean_squared_error(y_test, gradient_boosting.predict(X_test))**0.5\n",
    "    print(f'Number of trees: {n}. RMSE: {rmse}')\n",
    "    results.append(rmse)"
   ]
  },
  {
   "cell_type": "code",
   "execution_count": 56,
   "metadata": {},
   "outputs": [
    {
     "data": {
      "text/plain": [
       "Text(0, 0.5, 'RMSE')"
      ]
     },
     "execution_count": 56,
     "metadata": {},
     "output_type": "execute_result"
    },
    {
     "data": {
      "image/png": "[encoded data removed]",
      "text/plain": [
       "<Figure size 640x480 with 1 Axes>"
      ]
     },
     "metadata": {},
     "output_type": "display_data"
    }
   ],
   "source": [
    "plt.plot(trees_counts, results)\n",
    "plt.xlabel('Number of trees')\n",
    "plt.ylabel('RMSE')"
   ]
  },
  {
   "cell_type": "markdown",
   "metadata": {},
   "source": [
    "1. С увеличением числа деревьев начиная с некоторого момента качество работы градиентного бустинга не меняется существенно."
   ]
  },
  {
   "cell_type": "markdown",
   "metadata": {
    "id": "f9LkSljJhamm"
   },
   "source": [
    "#### Зависимость от глубины дерева"
   ]
  },
  {
   "cell_type": "code",
   "execution_count": 62,
   "metadata": {
    "id": "v3Wj6iytkmyf"
   },
   "outputs": [
    {
     "name": "stdout",
     "output_type": "stream",
     "text": [
      "Number of trees: 3. RMSE: 0.7389227416097102\n",
      "Number of trees: 4. RMSE: 0.7223011873769719\n",
      "Number of trees: 5. RMSE: 0.7571590736504445\n",
      "Number of trees: 6. RMSE: 0.7206220977803814\n",
      "Number of trees: 7. RMSE: 0.7140240264527319\n",
      "Number of trees: 8. RMSE: 0.728032543219061\n",
      "Number of trees: 9. RMSE: 0.7412157051852339\n",
      "Number of trees: 10. RMSE: 0.7471251714929702\n",
      "Number of trees: 11. RMSE: 0.7781029238151879\n",
      "Number of trees: 12. RMSE: 0.7811552929984439\n",
      "Number of trees: 13. RMSE: 0.7995798621239275\n",
      "Number of trees: 14. RMSE: 0.8075981425868286\n",
      "Number of trees: 15. RMSE: 0.8252067848354986\n",
      "Number of trees: 20. RMSE: 0.9252619999427809\n",
      "Number of trees: 30. RMSE: 0.9475175729200421\n",
      "Number of trees: 50. RMSE: 0.9446388178576184\n",
      "Number of trees: 70. RMSE: 0.9446388178576184\n",
      "Number of trees: 90. RMSE: 0.9446388178576184\n",
      "Number of trees: 110. RMSE: 0.9446388178576184\n"
     ]
    }
   ],
   "source": [
    "depths = [3, 4, 5, 6, 7, 8, 9, 10, 11, 12, 13, 14, 15, 20, 30, 50, 70, 90, 110]\n",
    "results = []\n",
    "for n in depths:\n",
    "    gradient_boosting = ensemble.GradientBoostingRegressor(max_depth=n, random_state=42)\n",
    "    gradient_boosting.fit(X_train, y_train)\n",
    "    rmse = metrics.mean_squared_error(y_test, gradient_boosting.predict(X_test))**0.5\n",
    "    print(f'Number of trees: {n}. RMSE: {rmse}')\n",
    "    results.append(rmse)"
   ]
  },
  {
   "cell_type": "code",
   "execution_count": 63,
   "metadata": {},
   "outputs": [
    {
     "data": {
      "text/plain": [
       "Text(0, 0.5, 'RMSE')"
      ]
     },
     "execution_count": 63,
     "metadata": {},
     "output_type": "execute_result"
    },
    {
     "data": {
      "image/png": "[encoded data removed]",
      "text/plain": [
       "<Figure size 640x480 with 1 Axes>"
      ]
     },
     "metadata": {},
     "output_type": "display_data"
    }
   ],
   "source": [
    "plt.plot(depths, results)\n",
    "plt.xlabel('Depth of trees')\n",
    "plt.ylabel('RMSE')\n",
    "# plt.xscale('log')"
   ]
  },
  {
   "cell_type": "markdown",
   "metadata": {},
   "source": [
    "3. С ростом глубины деревьев, начиная с некоторого момента, качество работы градиентного бустинга на тестовой выборке начинает ухудшаться"
   ]
  },
  {
   "cell_type": "markdown",
   "metadata": {
    "id": "x0qlAIrfhamn"
   },
   "source": [
    "### Задание 5\n",
    "\n",
    "Сравните получаемое с помощью градиентного бустинга качество с качеством работы линейной регрессии. Для этого обучите LinearRegression из sklearn.linear_model (с параметрами по умолчанию) на обучающей выборке и оцените для прогнозов полученного алгоритма на тестовой выборке RMSE. В данном примере качество работы простой модели должно было оказаться хуже, но не стоит забывать, что так бывает не всегда."
   ]
  },
  {
   "cell_type": "code",
   "execution_count": 60,
   "metadata": {
    "collapsed": true,
    "id": "Dw9DKLMghamo"
   },
   "outputs": [
    {
     "name": "stdout",
     "output_type": "stream",
     "text": [
      "Linear regression RMSE: 0.7848734315922417\n"
     ]
    }
   ],
   "source": [
    "mse = metrics.mean_squared_error(\n",
    "    y_test,\n",
    "    linear_model.LinearRegression().fit(X_train, y_train).predict(X_test)\n",
    ")\n",
    "print(f'Linear regression RMSE: {mse**0.5}')"
   ]
  }
 ],
 "metadata": {
  "colab": {
   "provenance": []
  },
  "kernelspec": {
   "display_name": ".venv",
   "language": "python",
   "name": "python3"
  },
  "language_info": {
   "codemirror_mode": {
    "name": "ipython",
    "version": 3
   },
   "file_extension": ".py",
   "mimetype": "text/x-python",
   "name": "python",
   "nbconvert_exporter": "python",
   "pygments_lexer": "ipython3",
   "version": "3.12.7"
  }
 },
 "nbformat": 4,
 "nbformat_minor": 0
}
